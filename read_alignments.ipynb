{
 "cells": [
  {
   "cell_type": "code",
   "execution_count": 1,
   "metadata": {
    "pycharm": {
     "name": "#%%\n"
    }
   },
   "outputs": [],
   "source": [
    "%load_ext autoreload\n",
    "%autoreload 2"
   ]
  },
  {
   "cell_type": "code",
   "execution_count": 28,
   "metadata": {
    "pycharm": {
     "name": "#%%\n"
    }
   },
   "outputs": [],
   "source": [
    "from image_utils import *\n",
    "from pathlib import Path\n",
    "import datetime\n",
    "\n",
    "def get_date(path):\n",
    "    \"\"\"Date from path\"\"\"\n",
    "\n",
    "    try:\n",
    "        date = str(path).split('\\\\')[-1].split('_')[0]\n",
    "        year = int(date[:4])\n",
    "        month = int(date[4:6])\n",
    "        day = int(date[6:])\n",
    "        date = datetime.date(year, month, day)\n",
    "    except:\n",
    "        return None\n",
    "\n",
    "    return date"
   ]
  },
  {
   "cell_type": "markdown",
   "source": [
    "## Load alignment .msr"
   ],
   "metadata": {
    "collapsed": false,
    "pycharm": {
     "name": "#%% md\n"
    }
   }
  },
  {
   "cell_type": "code",
   "execution_count": 58,
   "outputs": [],
   "source": [
    "path = Path(f'Y:\\\\staff\\\\LowCost\\\\fse\\\\smb\\\\Vlijm\\\\Frank Mol\\\\Abberior_STED_RAW\\\\Aligments_STED_microscopy\\\\_Oil_Objective')"
   ],
   "metadata": {
    "collapsed": false,
    "pycharm": {
     "name": "#%%\n"
    }
   }
  },
  {
   "cell_type": "code",
   "execution_count": 59,
   "outputs": [],
   "source": [
    "msr_list = list(path.glob('*.msr'))"
   ],
   "metadata": {
    "collapsed": false,
    "pycharm": {
     "name": "#%%\n"
    }
   }
  },
  {
   "cell_type": "code",
   "execution_count": 60,
   "outputs": [],
   "source": [
    "for alignment_path in list(msr_list):\n",
    "    date = get_date(alignment_path)\n",
    "    if date:\n",
    "        path_test = alignment_path"
   ],
   "metadata": {
    "collapsed": false,
    "pycharm": {
     "name": "#%%\n"
    }
   }
  },
  {
   "cell_type": "code",
   "execution_count": 61,
   "outputs": [
    {
     "name": "stdout",
     "output_type": "stream",
     "text": [
      "Y:\\staff\\LowCost\\fse\\smb\\Vlijm\\Frank Mol\\Abberior_STED_RAW\\Aligments_STED_microscopy\\_Oil_Objective\\20240123_23C_tetra.msr\n"
     ]
    }
   ],
   "source": [
    "print(str(path_test))"
   ],
   "metadata": {
    "collapsed": false,
    "pycharm": {
     "name": "#%%\n"
    }
   }
  },
  {
   "cell_type": "code",
   "execution_count": 62,
   "outputs": [
    {
     "ename": "ValueError",
     "evalue": "buffer size must be a multiple of element size",
     "output_type": "error",
     "traceback": [
      "\u001B[1;31m---------------------------------------------------------------------------\u001B[0m",
      "\u001B[1;31mValueError\u001B[0m                                Traceback (most recent call last)",
      "Cell \u001B[1;32mIn[62], line 1\u001B[0m\n\u001B[1;32m----> 1\u001B[0m \u001B[43mread_msr_configs\u001B[49m\u001B[43m(\u001B[49m\u001B[43mpath_test\u001B[49m\u001B[43m)\u001B[49m\n",
      "File \u001B[1;32m~\\Documents\\GitHub\\msr_reader\\image_utils\\msr_reader.py:329\u001B[0m, in \u001B[0;36mread_msr_configs\u001B[1;34m(filename, config)\u001B[0m\n\u001B[0;32m    309\u001B[0m \u001B[38;5;28;01mdef\u001B[39;00m \u001B[38;5;21mread_msr_configs\u001B[39m(filename:\u001B[38;5;28mstr\u001B[39m, config:\u001B[38;5;28mstr\u001B[39m\u001B[38;5;241m=\u001B[39m\u001B[38;5;28;01mNone\u001B[39;00m):\n\u001B[0;32m    310\u001B[0m \u001B[38;5;250m    \u001B[39m\u001B[38;5;124;03m'''\u001B[39;00m\n\u001B[0;32m    311\u001B[0m \u001B[38;5;124;03m    Reads, parses and returns an ImageSettings (containing image acquisition \u001B[39;00m\n\u001B[0;32m    312\u001B[0m \u001B[38;5;124;03m    parameters) and an ImagePlus (containing image data) object for each image \u001B[39;00m\n\u001B[1;32m   (...)\u001B[0m\n\u001B[0;32m    327\u001B[0m \u001B[38;5;124;03m            found, throws a ConfigNotFoundError (custom).\u001B[39;00m\n\u001B[0;32m    328\u001B[0m \u001B[38;5;124;03m    '''\u001B[39;00m\n\u001B[1;32m--> 329\u001B[0m     stacks \u001B[38;5;241m=\u001B[39m \u001B[43m_read_msr\u001B[49m\u001B[43m(\u001B[49m\u001B[43mfilename\u001B[49m\u001B[43m)\u001B[49m\n\u001B[0;32m    331\u001B[0m     configs \u001B[38;5;241m=\u001B[39m {}\n\u001B[0;32m    332\u001B[0m     \u001B[38;5;28;01mfor\u001B[39;00m stack \u001B[38;5;129;01min\u001B[39;00m stacks:\n",
      "File \u001B[1;32m~\\Documents\\GitHub\\msr_reader\\image_utils\\msr_reader.py:168\u001B[0m, in \u001B[0;36m_read_msr\u001B[1;34m(filename)\u001B[0m\n\u001B[0;32m    166\u001B[0m \u001B[38;5;28;01mwhile\u001B[39;00m stack_pos \u001B[38;5;241m!=\u001B[39m \u001B[38;5;241m0\u001B[39m:\n\u001B[0;32m    167\u001B[0m     f\u001B[38;5;241m.\u001B[39mseek(stack_pos)\n\u001B[1;32m--> 168\u001B[0m     stack, stack_pos \u001B[38;5;241m=\u001B[39m \u001B[43m_read_stack\u001B[49m\u001B[43m(\u001B[49m\u001B[43mf\u001B[49m\u001B[43m)\u001B[49m\n\u001B[0;32m    169\u001B[0m     \u001B[38;5;28;01mif\u001B[39;00m stack \u001B[38;5;241m!=\u001B[39m \u001B[38;5;28;01mNone\u001B[39;00m:\n\u001B[0;32m    170\u001B[0m         stacks\u001B[38;5;241m.\u001B[39mappend(stack)\n",
      "File \u001B[1;32m~\\Documents\\GitHub\\msr_reader\\image_utils\\msr_reader.py:146\u001B[0m, in \u001B[0;36m_read_stack\u001B[1;34m(f)\u001B[0m\n\u001B[0;32m    144\u001B[0m \u001B[38;5;28;01mif\u001B[39;00m compression_type \u001B[38;5;241m==\u001B[39m \u001B[38;5;241m1\u001B[39m:\n\u001B[0;32m    145\u001B[0m     data \u001B[38;5;241m=\u001B[39m zlib\u001B[38;5;241m.\u001B[39mdecompress(data)\n\u001B[1;32m--> 146\u001B[0m data \u001B[38;5;241m=\u001B[39m \u001B[43mnp\u001B[49m\u001B[38;5;241;43m.\u001B[39;49m\u001B[43mfrombuffer\u001B[49m\u001B[43m(\u001B[49m\u001B[43mdata\u001B[49m\u001B[43m,\u001B[49m\u001B[43m \u001B[49m\u001B[38;5;124;43m'\u001B[39;49m\u001B[38;5;124;43m<h\u001B[39;49m\u001B[38;5;124;43m'\u001B[39;49m\u001B[43m)\u001B[49m\n\u001B[0;32m    148\u001B[0m finished \u001B[38;5;241m=\u001B[39m data\u001B[38;5;241m.\u001B[39mshape[\u001B[38;5;241m0\u001B[39m] \u001B[38;5;241m==\u001B[39m np\u001B[38;5;241m.\u001B[39mprod(res[:rank])\n\u001B[0;32m    149\u001B[0m \u001B[38;5;28;01mif\u001B[39;00m \u001B[38;5;129;01mnot\u001B[39;00m finished:\n",
      "\u001B[1;31mValueError\u001B[0m: buffer size must be a multiple of element size"
     ]
    }
   ],
   "source": [
    "read_msr_configs(path_test)"
   ],
   "metadata": {
    "collapsed": false,
    "pycharm": {
     "name": "#%%\n"
    }
   }
  },
  {
   "cell_type": "markdown",
   "source": [
    "## Load alternative file"
   ],
   "metadata": {
    "collapsed": false,
    "pycharm": {
     "name": "#%% md\n"
    }
   }
  },
  {
   "cell_type": "code",
   "execution_count": 63,
   "outputs": [
    {
     "data": {
      "text/plain": "{'zstack': (<image_utils.image_settings.ImageSettings at 0x1dbd58536d0>,\n  <image_utils.image_plus.ImagePlus at 0x1dbd4ef99d0>),\n 'confocal': (<image_utils.image_settings.ImageSettings at 0x1dbd4f35e10>,\n  <image_utils.image_plus.ImagePlus at 0x1dbd3c1b390>),\n 'fast': (<image_utils.image_settings.ImageSettings at 0x1dbd5841cd0>,\n  <image_utils.image_plus.ImagePlus at 0x1dbd5828f90>),\n 'STED': (<image_utils.image_settings.ImageSettings at 0x1dbd5793990>,\n  <image_utils.image_plus.ImagePlus at 0x1dbd3c2f910>)}"
     },
     "execution_count": 63,
     "metadata": {},
     "output_type": "execute_result"
    }
   ],
   "source": [
    "p = Path(f'Y:\\\\staff\\\\LowCost\\\\fse\\\\smb\\\\Vlijm\\\\Frank Mol\\\\Abberior_STED_RAW\\\\20240111\\\\template_conf_fast_sted.msr')\n",
    "read_msr_configs(p)"
   ],
   "metadata": {
    "collapsed": false,
    "pycharm": {
     "name": "#%%\n"
    }
   }
  }
 ],
 "metadata": {
  "kernelspec": {
   "display_name": "Python 3",
   "language": "python",
   "name": "python3"
  },
  "language_info": {
   "codemirror_mode": {
    "name": "ipython",
    "version": 3
   },
   "file_extension": ".py",
   "mimetype": "text/x-python",
   "name": "python",
   "nbconvert_exporter": "python",
   "pygments_lexer": "ipython3",
   "version": "3.11.6"
  }
 },
 "nbformat": 4,
 "nbformat_minor": 2
}